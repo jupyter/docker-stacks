{
 "cells": [
  {
   "cell_type": "code",
   "execution_count": null,
   "metadata": {},
   "outputs": [],
   "source": [
    "library(SparkR)\n",
    "\n",
    "# Spark session & context\n",
    "sc <- sparkR.session(\"local\")\n",
    "\n",
    "# Sum of the first 100 whole numbers\n",
    "sdf <- createDataFrame(list(1:100))\n",
    "dapplyCollect(sdf,\n",
    "              function(x) \n",
    "              { x <- sum(x)}\n",
    "             )\n",
    "# 5050"
   ]
  }
 ],
 "metadata": {
  "kernelspec": {
   "display_name": "R",
   "language": "R",
   "name": "ir"
  },
  "language_info": {
   "codemirror_mode": "r",
   "file_extension": ".r",
   "mimetype": "text/x-r-source",
   "name": "R",
   "pygments_lexer": "r",
   "version": "3.6.3"
  }
 },
 "nbformat": 4,
 "nbformat_minor": 4
}
