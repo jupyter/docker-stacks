{
 "cells": [
  {
   "cell_type": "code",
   "execution_count": null,
   "metadata": {},
   "outputs": [],
   "source": [
    "library(sparklyr)\n",
    "\n",
    "# get the default config\n",
    "conf <- spark_config()\n",
    "# Set the catalog implementation in-memory\n",
    "conf$spark.sql.catalogImplementation <- \"in-memory\"\n",
    "\n",
    "# Spark session & context\n",
    "sc <- spark_connect(master = \"local\", config = conf)\n",
    "\n",
    "# Sum of the first 100 whole numbers\n",
    "sdf_len(sc, 100, repartition = 1) %>% \n",
    "    spark_apply(function(e) sum(e))\n",
    "# 5050"
   ]
  }
 ],
 "metadata": {
  "kernelspec": {
   "display_name": "R",
   "language": "R",
   "name": "ir"
  },
  "language_info": {
   "codemirror_mode": "r",
   "file_extension": ".r",
   "mimetype": "text/x-r-source",
   "name": "R",
   "pygments_lexer": "r",
   "version": "3.6.3"
  }
 },
 "nbformat": 4,
 "nbformat_minor": 4
}
